{
 "cells": [
  {
   "cell_type": "markdown",
   "metadata": {
    "toc": true
   },
   "source": [
    "<h1>Table of Contents<span class=\"tocSkip\"></span></h1>\n",
    "<div class=\"toc\"><ul class=\"toc-item\"><li><span><a href=\"#Overview\" data-toc-modified-id=\"Overview-1\"><span class=\"toc-item-num\">1&nbsp;&nbsp;</span>Overview</a></span></li><li><span><a href=\"#The-Implementation-(of-Binary-Tree)\" data-toc-modified-id=\"The-Implementation-(of-Binary-Tree)-2\"><span class=\"toc-item-num\">2&nbsp;&nbsp;</span>The Implementation (of Binary Tree)</a></span></li><li><span><a href=\"#DFS-(100-marks)\" data-toc-modified-id=\"DFS-(100-marks)-3\"><span class=\"toc-item-num\">3&nbsp;&nbsp;</span>DFS (100 marks)</a></span><ul class=\"toc-item\"><li><span><a href=\"#Question-($\\star\\star$,-100-marks)\" data-toc-modified-id=\"Question-($\\star\\star$,-100-marks)-3.1\"><span class=\"toc-item-num\">3.1&nbsp;&nbsp;</span>Question ($\\star\\star$, 100 marks)</a></span></li></ul></li></ul></div>"
   ]
  },
  {
   "cell_type": "markdown",
   "metadata": {
    "collapsed": true
   },
   "source": [
    "<b>\n",
    "\n",
    "<p>\n",
    "<center>\n",
    "<font size=\"5\">\n",
    "Homework for Algorithm Design for Data Science (DATS 6001)\n",
    "</font>\n",
    "</center>\n",
    "</p>\n",
    "\n",
    "<p>\n",
    "<center>\n",
    "<font size=\"4\">\n",
    "Homework 3: Tree and Search\n",
    "</font>\n",
    "</center>\n",
    "</p>\n",
    "\n",
    "<p>\n",
    "<center>\n",
    "<font size=\"3\">\n",
    "Data Science, Columbian College of Arts & Sciences, George Washington University\n",
    "</font>\n",
    "</center>\n",
    "</p>\n",
    "\n",
    "<p>\n",
    "<center>\n",
    "<font size=\"3\">\n",
    "Author: Yuxiao Huang\n",
    "</font>\n",
    "</center>\n",
    "</p>\n",
    "\n",
    "</b>"
   ]
  },
  {
   "cell_type": "markdown",
   "metadata": {},
   "source": [
    "# Overview\n",
    "- For each question, complete the logic and code indicated by # Implement me\n",
    "    - the logic should summarize the main idea of your algorithm\n",
    "    - the code should\n",
    "        - be bug-free (while the output produced by your solution being the same as the provided output does not necessarily mean your code is bug-free, it is very likely that there is a bug in your code when the two kinds of output are different)\n",
    "        - satisfy the required time and space complexity\n",
    "        - be commented\n",
    "    - **marks will be deducted if the above requirements (for the logic and code) are not met**\n",
    "    - **see the complete grading rubrics in section 13 of the syllabus**\n",
    "- Submit an ipynb file named Homework_3.ipynb to [blackboard](https://blackboard.gwu.edu) folder /Assignments/Homework_3/"
   ]
  },
  {
   "cell_type": "markdown",
   "metadata": {},
   "source": [
    "# The Implementation (of Binary Tree)"
   ]
  },
  {
   "cell_type": "code",
   "execution_count": 7,
   "metadata": {
    "collapsed": true
   },
   "outputs": [],
   "source": [
    "# Reference: The code below is from chapter_5_tree_search_solution.ipynb\n",
    "class TreeNode(object):\n",
    "    \"\"\"The tree node class (for a binary tree)\"\"\"\n",
    "    \n",
    "    def __init__(self, x):\n",
    "        # The value of the node\n",
    "        self.val = x\n",
    "        # The left child\n",
    "        self.left = None\n",
    "        # The right child\n",
    "        self.right = None"
   ]
  },
  {
   "cell_type": "markdown",
   "metadata": {},
   "source": [
    "# DFS (100 marks)\n",
    "This section includes one question."
   ]
  },
  {
   "cell_type": "markdown",
   "metadata": {},
   "source": [
    "## Question ($\\star\\star$, 100 marks)\n",
    "- Problem:\n",
    "    - follow up on exercise 5.1 in Chapter 5 of lecture note (see the solution, fun_51, below)\n",
    "    - check whether a binary tree is height-balanced\n",
    "    - here:\n",
    "        - an empty binary tree is balanced\n",
    "        - a non-empty binary tree is balanced if all of the following three conditions hold:\n",
    "            - the left subtree is balanced\n",
    "            - the right subtree is balanced\n",
    "            - the difference between the height of left and right subtree is not more than 1\n",
    "    - you may consider to use fun_51 when designing the solution\n",
    "    - see examples in the test cases\n",
    "    - find the solution with the complexity below\n",
    "- Complexity:\n",
    "    - $O(n)$ time\n",
    "    - $O(n)$ space\n",
    "- **Logic: # Implement me (5 marks)**\n"
   ]
  },
  {
   "cell_type": "code",
   "execution_count": 8,
   "metadata": {
    "collapsed": true
   },
   "outputs": [],
   "source": [
    "# Reference: The code below is from chapter_5_tree_search_solution.ipynb\n",
    "# Implementation\n",
    "def fun_51(root):\n",
    "    \"\"\"\n",
    "    Find the height of a binary tree\n",
    "    \n",
    "    Parameters\n",
    "    ----------\n",
    "    root : the root of a binary tree\n",
    "    \n",
    "    Returns\n",
    "    ----------\n",
    "    The height of the tree : an integer\n",
    "    \"\"\"\n",
    "    \n",
    "    # Base\n",
    "    if root == None:\n",
    "        return -1\n",
    "    \n",
    "    # Recursion\n",
    "    return max(fun_51(root.left), fun_51(root.right)) + 1"
   ]
  },
  {
   "cell_type": "code",
   "execution_count": null,
   "metadata": {},
   "outputs": [],
   "source": []
  },
  {
   "cell_type": "code",
   "execution_count": 15,
   "metadata": {
    "collapsed": true
   },
   "outputs": [],
   "source": [
    "# Implementation\n",
    "def fun_61(root):\n",
    "    \"\"\"\n",
    "    Check whether a binary tree is height-balanced    \n",
    "    \n",
    "    Parameters\n",
    "    ----------\n",
    "    root : the root of a binary tree\n",
    "    \n",
    "    Returns\n",
    "    ----------\n",
    "    True, if the tree is height balanced\n",
    "    False, otherwise\n",
    "    \"\"\"\n",
    "\n",
    "    def balance(root):\n",
    "\n",
    "        # Implement me (95 marks)\n",
    "        # an empty binary tree is balanced\n",
    "        if root is None: # if root == None, if not root\n",
    "            return True, -1\n",
    "        \n",
    "        #  the left subtree is balanced\n",
    "        left_is_balance, left_height = balance(root.left)\n",
    "    \n",
    "        # the right subtree is balanced\n",
    "        right_is_balance, right_height = balance(root.right)\n",
    "        \n",
    "        # the difference between the height of left and right subtree is not more than 1   \n",
    "        diff = abs(left_height - right_height) <= 1\n",
    "        \n",
    "        # current height\n",
    "        height = max(left_height, right_height) + 1\n",
    "        \n",
    "        return left_is_balance and right_is_balance and diff, height\n",
    "\n",
    "    # True and False -> \n",
    "    return balance(root)[0]\n",
    "    "
   ]
  },
  {
   "cell_type": "code",
   "execution_count": 16,
   "metadata": {},
   "outputs": [
    {
     "data": {
      "text/plain": [
       "False"
      ]
     },
     "execution_count": 16,
     "metadata": {},
     "output_type": "execute_result"
    }
   ],
   "source": [
    "True and True and False"
   ]
  },
  {
   "cell_type": "code",
   "execution_count": 17,
   "metadata": {
    "scrolled": true
   },
   "outputs": [
    {
     "name": "stdout",
     "output_type": "stream",
     "text": [
      "True\n",
      "True\n",
      "True\n",
      "True\n",
      "False\n",
      "False\n"
     ]
    }
   ],
   "source": [
    "# Test\n",
    "root1 = None\n",
    "\n",
    "root2 = TreeNode(0)\n",
    "\n",
    "root3 = TreeNode(0)\n",
    "root3.left = TreeNode(1)\n",
    "\n",
    "root4 = TreeNode(0)\n",
    "root4.left = TreeNode(1)\n",
    "root4.right = TreeNode(1)\n",
    "\n",
    "root5 = TreeNode(0)\n",
    "root5.left = TreeNode(1)\n",
    "root5.left.left = TreeNode(2)\n",
    "\n",
    "root6 = TreeNode(0)\n",
    "root6.left = TreeNode(1)\n",
    "root6.left.left = TreeNode(2)\n",
    "root6.left.left.left = TreeNode(3)\n",
    "root6.right = TreeNode(1)\n",
    "root6.right.right = TreeNode(2)\n",
    "root6.right.right.right = TreeNode(3)\n",
    "\n",
    "print(fun_61(root1))\n",
    "print(fun_61(root2))\n",
    "print(fun_61(root3))\n",
    "print(fun_61(root4))\n",
    "print(fun_61(root5))\n",
    "print(fun_61(root6))"
   ]
  },
  {
   "cell_type": "code",
   "execution_count": null,
   "metadata": {},
   "outputs": [],
   "source": []
  },
  {
   "cell_type": "code",
   "execution_count": null,
   "metadata": {},
   "outputs": [],
   "source": []
  }
 ],
 "metadata": {
  "kernelspec": {
   "display_name": "Python 3",
   "language": "python",
   "name": "python3"
  },
  "language_info": {
   "codemirror_mode": {
    "name": "ipython",
    "version": 3
   },
   "file_extension": ".py",
   "mimetype": "text/x-python",
   "name": "python",
   "nbconvert_exporter": "python",
   "pygments_lexer": "ipython3",
   "version": "3.9.13"
  },
  "toc": {
   "base_numbering": 1,
   "nav_menu": {},
   "number_sections": true,
   "sideBar": true,
   "skip_h1_title": false,
   "title_cell": "Table of Contents",
   "title_sidebar": "Contents",
   "toc_cell": true,
   "toc_position": {},
   "toc_section_display": true,
   "toc_window_display": false
  }
 },
 "nbformat": 4,
 "nbformat_minor": 2
}
