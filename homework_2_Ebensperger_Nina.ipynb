{
 "cells": [
  {
   "cell_type": "markdown",
   "metadata": {
    "toc": true
   },
   "source": [
    "<h1>Table of Contents<span class=\"tocSkip\"></span></h1>\n",
    "<div class=\"toc\"><ul class=\"toc-item\"><li><span><a href=\"#Overview\" data-toc-modified-id=\"Overview-1\"><span class=\"toc-item-num\">1&nbsp;&nbsp;</span>Overview</a></span></li><li><span><a href=\"#Stack-(50-marks)\" data-toc-modified-id=\"Stack-(50-marks)-2\"><span class=\"toc-item-num\">2&nbsp;&nbsp;</span>Stack (50 marks)</a></span><ul class=\"toc-item\"><li><span><a href=\"#Question-($\\star\\star$,-50-marks)\" data-toc-modified-id=\"Question-($\\star\\star$,-50-marks)-2.1\"><span class=\"toc-item-num\">2.1&nbsp;&nbsp;</span>Question ($\\star\\star$, 50 marks)</a></span></li></ul></li><li><span><a href=\"#Binary-Search-(50-marks)\" data-toc-modified-id=\"Binary-Search-(50-marks)-3\"><span class=\"toc-item-num\">3&nbsp;&nbsp;</span>Binary Search (50 marks)</a></span><ul class=\"toc-item\"><li><span><a href=\"#Question-($\\star$,-10-marks)\" data-toc-modified-id=\"Question-($\\star$,-10-marks)-3.1\"><span class=\"toc-item-num\">3.1&nbsp;&nbsp;</span>Question ($\\star$, 10 marks)</a></span></li><li><span><a href=\"#Question-($\\star\\star$,-40-marks)\" data-toc-modified-id=\"Question-($\\star\\star$,-40-marks)-3.2\"><span class=\"toc-item-num\">3.2&nbsp;&nbsp;</span>Question ($\\star\\star$, 40 marks)</a></span></li></ul></li></ul></div>"
   ]
  },
  {
   "cell_type": "markdown",
   "metadata": {
    "collapsed": true
   },
   "source": [
    "<b>\n",
    "\n",
    "<p>\n",
    "<center>\n",
    "<font size=\"5\">\n",
    "Homework for Algorithm Design for Data Science (DATS 6001)\n",
    "</font>\n",
    "</center>\n",
    "</p>\n",
    "\n",
    "<p>\n",
    "<center>\n",
    "<font size=\"4\">\n",
    "Homework 2: Stack, Array and Binary Search\n",
    "</font>\n",
    "</center>\n",
    "</p>\n",
    "\n",
    "<p>\n",
    "<center>\n",
    "<font size=\"3\">\n",
    "Data Science, Columbian College of Arts & Sciences, George Washington University\n",
    "</font>\n",
    "</center>\n",
    "</p>\n",
    "\n",
    "<p>\n",
    "<center>\n",
    "<font size=\"3\">\n",
    "Author: Yuxiao Huang\n",
    "</font>\n",
    "</center>\n",
    "</p>\n",
    "\n",
    "</b>"
   ]
  },
  {
   "cell_type": "markdown",
   "metadata": {},
   "source": [
    "# Overview\n",
    "- For each question, complete the logic and code indicated by # Implement me\n",
    "    - the logic should summarize the main idea of your algorithm\n",
    "    - the code should\n",
    "        - be bug-free (while the output produced by your solution being the same as the provided output does not necessarily mean your code is bug-free, it is very likely that there is a bug in your code when the two kinds of output are different)\n",
    "        - satisfy the required time and space complexity\n",
    "        - be commented\n",
    "    - **marks will be deducted if the above requirements (for the logic and code) are not met**\n",
    "    - **see the complete grading rubrics in section 13 of the syllabus**\n",
    "- Submit an ipynb file named Homework_2.ipynb to [blackboard](https://blackboard.gwu.edu) folder /Assignments/Homework_2/"
   ]
  },
  {
   "cell_type": "markdown",
   "metadata": {},
   "source": [
    "# Stack (50 marks)"
   ]
  },
  {
   "cell_type": "markdown",
   "metadata": {
    "collapsed": true
   },
   "source": [
    "<a id='2.1'></a>"
   ]
  },
  {
   "cell_type": "code",
   "execution_count": null,
   "metadata": {},
   "outputs": [],
   "source": []
  },
  {
   "attachments": {},
   "cell_type": "markdown",
   "metadata": {},
   "source": [
    "## Question ($\\star\\star$, 50 marks)\n",
    "- Problem: \n",
    "    - find whether two lists of integers, list1 and list2, are equal\n",
    "    - here list2 only has nonnegative integers whereas list1 may also have negative integers\n",
    "    - particularly\n",
    "        - the negative number, say -n, in list1 means that this negative number and the n nonnegative numbers prior to it should be (hypothetically) removed from list1 during the comparison\n",
    "        - for example, if list1 = [2, 3, -1] and list2 = [2], the function should return True because based on the discussion above, in essence list1 = [2] (since 3 and -1 should be hypothetically removed from list1)\n",
    "        - another example, if list1 = [2, 3, 4, -1, 5, -2] and list2 = [2], the function still should return True, because in essence list1 = [2] (since 5 and 4 should be hypothetically removed due to -2, and 3 should be hypothetically removed due to -1)\n",
    "        - it is worth noting that, the function should return False if for negative number, say -n, there are fewer than n nonnegative numbers prior to it in list1\n",
    "        - for example, if list1 = [-1], the function should return False no matter what list2 is\n",
    "        - see the test cases for more examples\n",
    "    - find a solution with the complexity below\n",
    "- Complexity: \n",
    "    - $O(n)$ time\n",
    "    - $O(n)$ space\n",
    "- **Logic: # Implement me (5 marks)**\n",
    "This function first initalizes an empty list and a varible x = 0. Then it loops through the first array from the beginning to end to find if the item at the position i is a negative number. If it is not a negative number, we will add that to the list. If we have a negative number, we want to assign that to x. To do the next step, the negative number must be an absolute value. If the abs value of x is greater than the stack, it will return false, this is for an array with a list of only a negative number. Now if that is not the case we want to move on to the next step which is a while loop. Here is how we remove the numbers by the negative number value. While x is negative pop the stack also whenever you pop from the stack, add to x. This ensures that once x is positive, it will break the while loop. Lastly, compare the two lists, if theyre the same return true, if they arent, return false. "
   ]
  },
  {
   "cell_type": "code",
   "execution_count": 2,
   "metadata": {},
   "outputs": [],
   "source": [
    "# Implementation\n",
    "def fun_21(list1, list2):\n",
    "    \"\"\"\n",
    "    Find whether two lists of integers, list1 and list2, are equal\n",
    "    \n",
    "    Parameters\n",
    "    ----------\n",
    "    list1 : one list of integers\n",
    "    list2 : another list of integers\n",
    "    \n",
    "    Returns\n",
    "    ----------\n",
    "    True, if the two lists are equal\n",
    "    False, otherwise\n",
    "    \"\"\"\n",
    "    \n",
    "   #initalize \n",
    "    stack = []\n",
    "    x = 0\n",
    "    #loop through array from the beginnig to end \n",
    "    for i in range(0, len(list1)):\n",
    "        #if the item is grater than or equal to 0 add it to the stack\n",
    "        if list1[i] >= 0:\n",
    "            stack.append(list1[i])\n",
    "           \n",
    "       # if it is less than 0 have x equal the item\n",
    "        else:\n",
    "            x = list1[i]\n",
    "         #if the absolute value of x is greater than the stack return false\n",
    "            if abs(x) > len(stack):\n",
    "                return False\n",
    "            #if x is less than 0 pop the last value and add 1 to x \n",
    "            else:\n",
    "                #while x is less than 0 pop the stack \n",
    "                while x < 0:\n",
    "                    stack.pop()\n",
    "                    #add to x until it is positive to break/continue the loop \n",
    "                    x += 1\n",
    "                    \n",
    "            \n",
    "        #if stack and list2 are equal true if not false\n",
    "    return True if stack == list2 else False    \n",
    "\n",
    "\n",
    " \n",
    "    \n",
    "    "
   ]
  },
  {
   "cell_type": "code",
   "execution_count": 3,
   "metadata": {
    "scrolled": true
   },
   "outputs": [
    {
     "name": "stdout",
     "output_type": "stream",
     "text": [
      "True\n",
      "True\n",
      "True\n",
      "False\n",
      "False\n",
      "True\n",
      "False\n"
     ]
    }
   ],
   "source": [
    "# Test\n",
    "print(fun_21([], []))\n",
    "print(fun_21([2, 3, -1], [2]))\n",
    "print(fun_21([2, 3, 4, -1, 5, -2], [2]))\n",
    "print(fun_21([-1], [])) \n",
    "print(fun_21([1, 2, 3, 4, -2, 5, 6, -1], [2, 5]))\n",
    "print(fun_21([1, -1, 1], [1])) \n",
    "print(fun_21([2, 3, -100], [2])) "
   ]
  },
  {
   "cell_type": "markdown",
   "metadata": {},
   "source": [
    "# Binary Search (50 marks)\n",
    "This section includes two questions."
   ]
  },
  {
   "cell_type": "markdown",
   "metadata": {
    "collapsed": true
   },
   "source": [
    "<a id='4.1'></a>"
   ]
  },
  {
   "cell_type": "code",
   "execution_count": null,
   "metadata": {},
   "outputs": [],
   "source": []
  },
  {
   "attachments": {},
   "cell_type": "markdown",
   "metadata": {},
   "source": [
    "## Question ($\\star$, 10 marks)\n",
    "- Problem:\n",
    "    - follow up on exercise 3.6 in chapter 3 of lecture note\n",
    "    - as in exercise 3.6, if the target is not in the array, we return the index where we should insert the target to keep the array sorted\n",
    "    - however, unlike in exercise 3.6 where we return the index of any item in the array as long as the item equals the target, here we should return the index of the first item in the array that equals the target\n",
    "    - for example, if arr = [2, 3, 3, 4] and target = 3, we should return 1 (the index of the first 3 in arr) rather than 2 (the index of the second 3)\n",
    "    - see more examples in the testing cases\n",
    "    - find the solution with the complexity below\n",
    "- Complexity:\n",
    "    - $O(n)$ time\n",
    "    - $O(1)$ space\n",
    "- **Logic: # Implement me (5 marks)**\n",
    "first we initalize left and right; left being 0 (ie where it begins) and right being len(arr) - 1 (ie where it ends). Then make an if statement for when the target is not in the arr. In which the function will check if the ;ast item is less than the target, if so it wil return the lenght of arr. We do this to show where the target would go if there was an array with one one elment smaller than the target. Now we loop through the array from the beginning to the end (ie left to right). we do this to find if the item at each position is the target. If the item at the idex i is the target we return the target. If it is less than, we add the position to the left of the index, if it is larger we add it to the right of the index. We do so by asssigning left as i - 1 (ie in front) and right as i +1 (ie behind). Lastly, if the target is not in the list and the list consist of an item that is greater than the target, we return left which is currently at position 0. "
   ]
  },
  {
   "cell_type": "code",
   "execution_count": 55,
   "metadata": {},
   "outputs": [],
   "source": [
    "# Implementation\n",
    "def fun_41(arr, target):\n",
    "    \"\"\"\n",
    "    Find a target in a sortetd array (in ascending order)\n",
    "    \n",
    "    Parameters\n",
    "    ----------\n",
    "    arr : a list of integers\n",
    "    target : an integer\n",
    "    \n",
    "    Returns\n",
    "    ----------\n",
    "    The index of the first item in arr that equals the target, if the target is in the array\n",
    "    The index where the target should be inserted (so that the array is still sorted in ascending order), otherwise\n",
    "    \"\"\"\n",
    "     # Implement me\n",
    "   \n",
    "    # The starting and ending point of the input array\n",
    "    left, right = 0, len(arr) - 1\n",
    "   \n",
    "    # When the target isn't in the array\n",
    "    if target not in arr: \n",
    "        #if the last item is less than target return the length of arr\n",
    "        if arr[-1] < target:\n",
    "                return len(arr)\n",
    "      # loop through the array      \n",
    "    for i in range(left, right):\n",
    "        #if the item at position i is equal to the target return the target\n",
    "        if arr[i] == target:\n",
    "            return i\n",
    "        #if item is great than target put the target on its right \n",
    "        elif arr[i] > target:\n",
    "            right = i - 1\n",
    "            #if item is less than target put the target on its left \n",
    "        else:\n",
    "            left = i + 1\n",
    "     #when target is not in the array and is grater than the item in the arr; return left       \n",
    "    return left "
   ]
  },
  {
   "cell_type": "code",
   "execution_count": 56,
   "metadata": {
    "scrolled": true
   },
   "outputs": [
    {
     "name": "stdout",
     "output_type": "stream",
     "text": [
      "1\n",
      "0\n",
      "1\n",
      "1\n",
      "2\n",
      "0\n"
     ]
    }
   ],
   "source": [
    "# Test\n",
    "arr_1 = [2]\n",
    "arr_2 = [4]\n",
    "arr_3 = [2, 3, 4]\n",
    "arr_8 = [2, 3, 5]\n",
    "arr_4 = [2, 3, 3, 4]\n",
    "arr_5 = [2, 2, 3, 3, 3, 4, 4]\n",
    "arr_6 = [3, 3]\n",
    "#arr_7 = [1,2,4,5,6,7,8,9,10]\n",
    "\n",
    "\n",
    "print(fun_41(arr_1, 3))\n",
    "print(fun_41(arr_2, 3))\n",
    "print(fun_41(arr_3, 3))\n",
    "print(fun_41(arr_4, 3))\n",
    "print(fun_41(arr_5, 3))\n",
    "print(fun_41(arr_6, 3))\n",
    "#print(fun_41(arr_7,3))"
   ]
  },
  {
   "cell_type": "code",
   "execution_count": null,
   "metadata": {},
   "outputs": [],
   "source": []
  },
  {
   "attachments": {},
   "cell_type": "markdown",
   "metadata": {},
   "source": [
    "## Question ($\\star\\star$, 40 marks)\n",
    "- Problem: \n",
    "    - follow up on [Question 4.1](#4.1)\n",
    "    - find a solution with the complexity below\n",
    "- Complexity: \n",
    "    - $O(log(n))$ time\n",
    "    - $O(1)$ space\n",
    "- **Logic: # Implement me (5 marks)**\n",
    "\n",
    "the function works by first initalizing left and right; left being 0 (ie where it begins) and right being len(arr) - 1 (ie where it ends). So then it asks if the target is in the arr. If it is not in the array then we run a while loop. While left is equal to or less than right, then find the mid-point. Midpoint is left plus right // <-(to enure int). Now if the mid point is less than target add 1 to mid and return left. We add one to mid because that would mean making it the index right after the value at the index[mid]. This is because we want it to be ascending order. Now if mid was larger than left it would trigger the else statement. That statement will then assign to right the mid minus 1. We do this for similar reasons above but this time we are assigning it in front of the mid point because it is larger than the target. So we want the target to be in front to keep ascending order. In this case right becomes -1 and we print left which still has the value at position 0. \n",
    "\n",
    "Now say target is in arr, we find it using index() function. We do this instead of a binary search to find the first apperance of the target. Now we start another while loop where while left is equal to or less than right, if arr at position i is the same as target, return i. If it is greater than have right assigned i - 1 (to keep it ascending) if it is less than then have left assigned i + 1 to keep it ascending. If the target is not found in the array and the array is empty, return None. \n"
   ]
  },
  {
   "cell_type": "code",
   "execution_count": 45,
   "metadata": {},
   "outputs": [],
   "source": [
    "# Implementation\n",
    "def fun_42(arr, target):\n",
    "    \"\"\"\n",
    "    Find a target in a sortetd array (in ascending order)\n",
    "    \n",
    "    Parameters\n",
    "    ----------\n",
    "    arr : a list of integers\n",
    "    target : an integer\n",
    "    \n",
    "    Returns\n",
    "    ----------\n",
    "    The index of the first item in arr that equals the target, if the target is in the array\n",
    "    The index where the target should be inserted (so that the array is still sorted in ascending order), otherwise\n",
    "    \"\"\"\n",
    "    left, right = 0, len(arr) - 1\n",
    "     # Case for when taarget not in array\n",
    "    if target not in arr:\n",
    "         # While the subarray is not empty\n",
    "        while (left <= right):\n",
    "            # splitting the arry in half\n",
    "            mid = (left + right) // 2\n",
    "            # if the item at arr[mid] is less than target\n",
    "            if arr[mid] < target:\n",
    "                left = mid + 1\n",
    "            # if the item at arr[mid] is greater than target\n",
    "            else:\n",
    "                right = mid - 1\n",
    "        return left\n",
    "        \n",
    "\n",
    "    else: \n",
    "        # Get the index of the target in the subarray\n",
    "        i = arr.index(target)\n",
    "    # While the subarray is not empty\n",
    "        while (left <= right):\n",
    "            # If the  item equals the target\n",
    "            if arr[i] == target:\n",
    "                return i\n",
    "            # If the  item is larger than the target\n",
    "            elif arr[i] > target:\n",
    "                right = i - 1\n",
    "            # If the  item is smaller than the target\n",
    "            else:\n",
    "                left = i + 1\n",
    "         #If the target is not found in the array and the array is empty, return None       \n",
    "        return None\n",
    "    \n"
   ]
  },
  {
   "cell_type": "code",
   "execution_count": 46,
   "metadata": {
    "scrolled": false
   },
   "outputs": [
    {
     "name": "stdout",
     "output_type": "stream",
     "text": [
      "1\n",
      "0\n",
      "1\n",
      "1\n",
      "2\n",
      "0\n"
     ]
    }
   ],
   "source": [
    "# Test\n",
    "arr_1 = [2]\n",
    "arr_2 = [4]\n",
    "arr_3 = [2, 3, 4]\n",
    "arr_4 = [2, 3, 3, 4]\n",
    "arr_5 = [2, 2, 3, 3, 3, 4, 4]\n",
    "arr_6 = [3, 3]\n",
    "\n",
    "\n",
    "print(fun_42(arr_1, 3))\n",
    "print(fun_42(arr_2, 3))\n",
    "print(fun_42(arr_3, 3))\n",
    "print(fun_42(arr_4, 3))\n",
    "print(fun_42(arr_5, 3))\n",
    "print(fun_42(arr_6, 3))"
   ]
  },
  {
   "cell_type": "code",
   "execution_count": null,
   "metadata": {},
   "outputs": [],
   "source": []
  }
 ],
 "metadata": {
  "kernelspec": {
   "display_name": "Python 3",
   "language": "python",
   "name": "python3"
  },
  "language_info": {
   "codemirror_mode": {
    "name": "ipython",
    "version": 3
   },
   "file_extension": ".py",
   "mimetype": "text/x-python",
   "name": "python",
   "nbconvert_exporter": "python",
   "pygments_lexer": "ipython3",
   "version": "3.9.13"
  },
  "toc": {
   "base_numbering": 1,
   "nav_menu": {},
   "number_sections": true,
   "sideBar": true,
   "skip_h1_title": false,
   "title_cell": "Table of Contents",
   "title_sidebar": "Contents",
   "toc_cell": true,
   "toc_position": {},
   "toc_section_display": true,
   "toc_window_display": false
  },
  "vscode": {
   "interpreter": {
    "hash": "aee8b7b246df8f9039afb4144a1f6fd8d2ca17a180786b69acc140d282b71a49"
   }
  }
 },
 "nbformat": 4,
 "nbformat_minor": 2
}
