{
 "cells": [
  {
   "cell_type": "markdown",
   "metadata": {
    "toc": true
   },
   "source": [
    "<h1>Table of Contents<span class=\"tocSkip\"></span></h1>\n",
    "<div class=\"toc\"><ul class=\"toc-item\"><li><span><a href=\"#Overview\" data-toc-modified-id=\"Overview-1\"><span class=\"toc-item-num\">1&nbsp;&nbsp;</span>Overview</a></span></li><li><span><a href=\"#The-Implementation-(of-Binary-Tree)\" data-toc-modified-id=\"The-Implementation-(of-Binary-Tree)-2\"><span class=\"toc-item-num\">2&nbsp;&nbsp;</span>The Implementation (of Binary Tree)</a></span></li><li><span><a href=\"#DFS-(100-marks)\" data-toc-modified-id=\"DFS-(100-marks)-3\"><span class=\"toc-item-num\">3&nbsp;&nbsp;</span>DFS (100 marks)</a></span><ul class=\"toc-item\"><li><span><a href=\"#Question-($\\star\\star$,-100-marks)\" data-toc-modified-id=\"Question-($\\star\\star$,-100-marks)-3.1\"><span class=\"toc-item-num\">3.1&nbsp;&nbsp;</span>Question ($\\star\\star$, 100 marks)</a></span></li></ul></li></ul></div>"
   ]
  },
  {
   "cell_type": "markdown",
   "metadata": {
    "collapsed": true
   },
   "source": [
    "<b>\n",
    "\n",
    "<p>\n",
    "<center>\n",
    "<font size=\"5\">\n",
    "Homework for Algorithm Design for Data Science (DATS 6001)\n",
    "</font>\n",
    "</center>\n",
    "</p>\n",
    "\n",
    "<p>\n",
    "<center>\n",
    "<font size=\"4\">\n",
    "Homework 4: Tree and Search\n",
    "</font>\n",
    "</center>\n",
    "</p>\n",
    "\n",
    "<p>\n",
    "<center>\n",
    "<font size=\"3\">\n",
    "Data Science, Columbian College of Arts & Sciences, George Washington University\n",
    "</font>\n",
    "</center>\n",
    "</p>\n",
    "\n",
    "<p>\n",
    "<center>\n",
    "<font size=\"3\">\n",
    "Author: Yuxiao Huang\n",
    "</font>\n",
    "</center>\n",
    "</p>\n",
    "\n",
    "</b>"
   ]
  },
  {
   "cell_type": "markdown",
   "metadata": {},
   "source": [
    "# Overview\n",
    "- For each question, complete the logic and code indicated by # Implement me\n",
    "    - the logic should summarize the main idea of your algorithm\n",
    "    - the code should\n",
    "        - be bug-free (while the output produced by your solution being the same as the provided output does not necessarily mean your code is bug-free, it is very likely that there is a bug in your code when the two kinds of output are different)\n",
    "        - satisfy the required time and space complexity\n",
    "        - be commented\n",
    "    - **marks will be deducted if the above requirements (for the logic and code) are not met**\n",
    "    - **see the complete grading rubrics in section 13 of the syllabus**\n",
    "- Submit an ipynb file named Homework_5.ipynb to [blackboard](https://blackboard.gwu.edu) folder /Assignments/Homework_4/"
   ]
  },
  {
   "cell_type": "markdown",
   "metadata": {},
   "source": [
    "# The Implementation (of Binary Tree)"
   ]
  },
  {
   "cell_type": "code",
   "execution_count": 1,
   "metadata": {
    "collapsed": true
   },
   "outputs": [],
   "source": [
    "# Reference: The code below is from chapter_5_tree_search_solution.ipynb\n",
    "class TreeNode(object):\n",
    "    \"\"\"The tree node class (for a binary tree)\"\"\"\n",
    "    \n",
    "    def __init__(self, x):\n",
    "        # The value of the node\n",
    "        self.val = x\n",
    "        # The left child\n",
    "        self.left = None\n",
    "        # The right child\n",
    "        self.right = None"
   ]
  },
  {
   "cell_type": "markdown",
   "metadata": {},
   "source": [
    "# DFS (100 marks)\n",
    "This section includes one question."
   ]
  },
  {
   "attachments": {},
   "cell_type": "markdown",
   "metadata": {},
   "source": [
    "## Question ($\\star\\star$, 100 marks)\n",
    "- Problem:\n",
    "    - follow up on exercise 5.1 in Chapter 5 of lecture note (see the solution, fun_51, below)\n",
    "    - check whether a binary tree is height-balanced\n",
    "    - here:\n",
    "        - an empty binary tree is balanced\n",
    "        - a non-empty binary tree is balanced if all of the following three conditions hold:\n",
    "            - the left subtree is balanced\n",
    "            - the right subtree is balanced\n",
    "            - the difference between the height of left and right subtree is not more than 1\n",
    "    - you may consider to use fun_51 when designing the solution\n",
    "    - see examples in the test cases\n",
    "    - find the solution with the complexity below\n",
    "- Complexity:\n",
    "    - $O(n)$ time\n",
    "    - $O(n)$ space\n",
    "- **Logic: First we implement fun_51 which will give u the hieght of the tree. It does so by creating the base where if there is no root, then -1 will be returned. Then it calls itself recursively to find the hieght from the left and right of the tree. Then it will add 1 to whicher value is the highest. This returns the height. Next to find if it is balanced. I create another function, fun_61. In this I first initalize a list. Then I account for when there is no root or tree at all, in which I return True as it is technically balanced. Now I check for a chase were the root is not null. I do so by checking when the left and right children of the root node have no children. If they don't then I append to the list. Now if the list is not empty, return true as that means that they are balanced as they do not have children. Next I check to make sure that the difference betwen the hieght of the left and the height of the right is not more than 1. So I call our previous function fun_51 and run it on both the left and right subtree. The absolute value of their heights subtracted from one another is not greater than 1 will return a boolean value stored in balance. Now if balance is true, recrusively run the function to find if the entire tree is balanced. If not, then just return false. \n",
    "\n"
   ]
  },
  {
   "cell_type": "code",
   "execution_count": 18,
   "metadata": {
    "collapsed": true
   },
   "outputs": [],
   "source": [
    "# Reference: The code below is from chapter_5_tree_search_solution.ipynb\n",
    "# Implementation\n",
    "def fun_51(root):\n",
    "    \"\"\"\n",
    "    Find the height of a binary tree\n",
    "    \n",
    "    Parameters\n",
    "    ----------\n",
    "    root : the root of a binary tree\n",
    "    \n",
    "    Returns\n",
    "    ----------\n",
    "    The height of the tree : an integer\n",
    "    \"\"\"\n",
    "    \n",
    "    # Base\n",
    "    if root == None:\n",
    "        return -1\n",
    "    \n",
    "    # Recursion\n",
    "    return max(fun_51(root.left), fun_51(root.right)) + 1"
   ]
  },
  {
   "cell_type": "code",
   "execution_count": 41,
   "metadata": {
    "collapsed": true
   },
   "outputs": [],
   "source": [
    "# Implementation\n",
    "def fun_61(root):\n",
    "    \"\"\"\n",
    "    Check whether a binary tree is height-balanced    \n",
    "    \n",
    "    Parameters\n",
    "    ----------\n",
    "    root : the root of a binary tree\n",
    "    \n",
    "    Returns\n",
    "    ----------\n",
    "    True, if the tree is height balanced\n",
    "    False, otherwise\n",
    "    \"\"\"\n",
    "    #initalizing empty list\n",
    "    list = []\n",
    "    \n",
    "    # if the root is null, if the tree is empty, return True \n",
    "    if root == None:\n",
    "        # print(f\"step 1\")\n",
    "        return True\n",
    "    \n",
    "    # if the root is not null, not empty, then...\n",
    "    if root.left == None and root.right == None:\n",
    "        # append the list\n",
    "        list.append(root.left)\n",
    "        list.append(root.right)\n",
    "        if list != None:\n",
    "            return True\n",
    "    \n",
    "    \n",
    "    # the difference between the height of left and right subtree is not more than 1\n",
    "    left, right = root.left, root.right\n",
    "    balanced = abs(fun_51(left) - fun_51(right)) <=1\n",
    "   \n",
    "    \n",
    "    # check the left subtree if balanced \n",
    "    # check the right subtree is balanced  \n",
    "    if balanced is True:\n",
    "        # recursion\n",
    "        return fun_61(root.left) and fun_61(root.right)\n",
    "    else:\n",
    "        return False\n",
    "\n",
    "\n",
    "    \n",
    "   \n",
    "  \n",
    "        \n",
    "    \n",
    "    \n"
   ]
  },
  {
   "cell_type": "code",
   "execution_count": 42,
   "metadata": {
    "scrolled": true
   },
   "outputs": [
    {
     "name": "stdout",
     "output_type": "stream",
     "text": [
      "True\n",
      "True\n",
      "True\n",
      "True\n",
      "False\n",
      "False\n"
     ]
    }
   ],
   "source": [
    "# Test\n",
    "root1 = None\n",
    "\n",
    "root2 = TreeNode(0)\n",
    "\n",
    "root3 = TreeNode(0)\n",
    "root3.left = TreeNode(1)\n",
    "\n",
    "root4 = TreeNode(0)\n",
    "root4.left = TreeNode(1)\n",
    "root4.right = TreeNode(1)\n",
    "\n",
    "root5 = TreeNode(0)\n",
    "root5.left = TreeNode(1)\n",
    "root5.left.left = TreeNode(2)\n",
    "\n",
    "root6 = TreeNode(0)\n",
    "root6.left = TreeNode(1)\n",
    "root6.left.left = TreeNode(2)\n",
    "root6.left.left.left = TreeNode(3)\n",
    "root6.right = TreeNode(1)\n",
    "root6.right.right = TreeNode(2)\n",
    "root6.right.right.right = TreeNode(3)\n",
    "\n",
    "print(fun_61(root1))\n",
    "print(fun_61(root2))\n",
    "print(fun_61(root3))\n",
    "print(fun_61(root4))\n",
    "print(fun_61(root5))\n",
    "print(fun_61(root6))\n",
    "\n",
    "# Output\n",
    "# True\n",
    "# True\n",
    "# True\n",
    "# True\n",
    "# False\n",
    "# False"
   ]
  }
 ],
 "metadata": {
  "kernelspec": {
   "display_name": "Python 3 (ipykernel)",
   "language": "python",
   "name": "python3"
  },
  "language_info": {
   "codemirror_mode": {
    "name": "ipython",
    "version": 3
   },
   "file_extension": ".py",
   "mimetype": "text/x-python",
   "name": "python",
   "nbconvert_exporter": "python",
   "pygments_lexer": "ipython3",
   "version": "3.9.13"
  },
  "toc": {
   "base_numbering": 1,
   "nav_menu": {},
   "number_sections": true,
   "sideBar": true,
   "skip_h1_title": false,
   "title_cell": "Table of Contents",
   "title_sidebar": "Contents",
   "toc_cell": true,
   "toc_position": {},
   "toc_section_display": true,
   "toc_window_display": false
  }
 },
 "nbformat": 4,
 "nbformat_minor": 2
}
